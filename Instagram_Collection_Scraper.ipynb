{
 "cells": [
  {
   "cell_type": "code",
   "execution_count": null,
   "id": "a6bbf61d",
   "metadata": {},
   "outputs": [],
   "source": [
    "from selenium import webdriver\n",
    "from selenium.webdriver.common.keys import Keys\n",
    "from selenium.webdriver.support import expected_conditions as EC\n",
    "from selenium.webdriver.common.by import By\n",
    "from selenium.webdriver.support.wait import WebDriverWait\n",
    "\n",
    "from random import randint\n",
    "from time import sleep\n",
    "import os\n",
    "import wget"
   ]
  },
  {
   "cell_type": "code",
   "execution_count": null,
   "id": "c9cf9ea9",
   "metadata": {},
   "outputs": [],
   "source": [
    "driver = webdriver.Chrome()\n",
    "\n",
    "driver.get(\"https://www.instagram.com\")\n",
    "\n",
    "#target username\n",
    "username = WebDriverWait(driver, 10).until(EC.element_to_be_clickable((By.CSS_SELECTOR, \"input[name='username']\")))\n",
    "password = WebDriverWait(driver, 10).until(EC.element_to_be_clickable((By.CSS_SELECTOR, \"input[name='password']\")))\n",
    "\n",
    "#enter username and password\n",
    "username.clear()\n",
    "username.send_keys(\"YOUR_INSTAGRAM_USERNAME\")\n",
    "password.clear()\n",
    "password.send_keys(\"YOUR_PASSWORD\")\n",
    "sleep(randint(4,6))\n",
    "\n",
    "#target the login button and click it\n",
    "button = WebDriverWait(driver, 10).until(EC.element_to_be_clickable((By.CSS_SELECTOR, \"button[type='submit']\"))).click()\n"
   ]
  },
  {
   "cell_type": "code",
   "execution_count": null,
   "id": "c319927a",
   "metadata": {},
   "outputs": [],
   "source": [
    "#save password: Not now button \n",
    "WebDriverWait(driver, 10).until(EC.element_to_be_clickable((By.CSS_SELECTOR, \"button[class='sqdOP yWX7d    y3zKF     ']\"))).click()\n",
    "\n",
    "#save password: Not now button\n",
    "WebDriverWait(driver, 10).until(EC.element_to_be_clickable((By.CSS_SELECTOR, \"button[class='aOOlW   HoLwm ']\"))).click()\n",
    "\n",
    "#dropdown\n",
    "WebDriverWait(driver, 10).until(EC.element_to_be_clickable((By.CSS_SELECTOR, \"span[class='_2dbep qNELH']\"))).click()\n",
    "\n",
    "#profile section\n",
    "WebDriverWait(driver, 10).until(EC.element_to_be_clickable((By.CSS_SELECTOR, \"a[class='-qQT3']\"))).click()\n",
    "\n",
    "#saved\n",
    "WebDriverWait(driver, 10).until(EC.element_to_be_clickable((By.CSS_SELECTOR, \"span[class='W9_iZ']\"))).click()"
   ]
  },
  {
   "cell_type": "code",
   "execution_count": null,
   "id": "519f1a23",
   "metadata": {},
   "outputs": [],
   "source": [
    "#specify the collection name \n",
    "driver.find_element(By.XPATH, \"//*[contains(text(), 'programming')]\" ).click() \n",
    "\n",
    "#scroll down till the end\n",
    "driver.execute_script(\"window.scrollBy(0,document.body.scrollHeight);\")\n",
    "\n",
    "\n",
    "images_list = driver.find_elements(By.XPATH, \"//div[@class='Nnq7C weEfm']//img\")\n",
    "images_list = [image.get_attribute('src') for image in images_list]\n",
    "\n",
    "len(images_list)"
   ]
  },
  {
   "cell_type": "code",
   "execution_count": null,
   "id": "1d21b648",
   "metadata": {},
   "outputs": [],
   "source": [
    "path = os.getcwd()\n",
    "path = os.path.join(path, \"YOUR_DIRECTORY_NAME_HERE\")\n",
    "\n",
    "#create the directory\n",
    "os.mkdir(path)"
   ]
  },
  {
   "cell_type": "code",
   "execution_count": null,
   "id": "f88c72e9",
   "metadata": {},
   "outputs": [],
   "source": [
    "counter = 0\n",
    "for image in imglst:\n",
    "    save_as = os.path.join(path, 'instaimage' + str(counter) + '.jpg')\n",
    "    wget.download(image, save_as)\n",
    "    counter += 1\n",
    "    sleep(randint(7,14))"
   ]
  }
 ],
 "metadata": {
  "kernelspec": {
   "display_name": "Python 3.8.8 64-bit ('base': conda)",
   "language": "python",
   "name": "python388jvsc74a57bd0cd78fef2128015050713e82ca51c6520b11aee7c9ee8df750520bbbc7384cbaa"
  },
  "language_info": {
   "codemirror_mode": {
    "name": "ipython",
    "version": 3
   },
   "file_extension": ".py",
   "mimetype": "text/x-python",
   "name": "python",
   "nbconvert_exporter": "python",
   "pygments_lexer": "ipython3",
   "version": "3.8.8"
  }
 },
 "nbformat": 4,
 "nbformat_minor": 5
}
